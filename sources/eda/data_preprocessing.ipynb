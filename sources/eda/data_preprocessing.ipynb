{
 "cells": [
  {
   "cell_type": "markdown",
   "metadata": {},
   "source": [
    "### 1. Imports"
   ]
  },
  {
   "cell_type": "code",
   "execution_count": 39,
   "metadata": {},
   "outputs": [],
   "source": [
    "from pathlib import Path\n",
    "\n",
    "import numpy as np\n",
    "import pandas as pd"
   ]
  },
  {
   "cell_type": "markdown",
   "metadata": {},
   "source": [
    "### 2. Data Sourcing"
   ]
  },
  {
   "cell_type": "code",
   "execution_count": 40,
   "metadata": {},
   "outputs": [
    {
     "name": "stdout",
     "output_type": "stream",
     "text": [
      "Lotto CSV file path: T:\\repos\\GamblingEvaluator\\gamblingEvaluator\\data\\raw\\LOTTO6aus49_1990-2023.csv\n"
     ]
    }
   ],
   "source": [
    "# original / raw data source\n",
    "lotto_csv_path = Path.joinpath(Path.cwd().parent, 'data\\\\raw\\LOTTO6aus49_1990-2023.csv').resolve()\n",
    "print(f'Lotto CSV file path: {lotto_csv_path}')"
   ]
  },
  {
   "cell_type": "markdown",
   "metadata": {},
   "source": [
    "#### 2.1 Data Dictionary\n",
    "| Column | Meaning \n",
    "| :--- | :--- \n",
    "| Year | Year of the drawing\n",
    "| MM/DD | Month and day of the drawing\n",
    "| Day | Drawing day, either SA (Saturday) or MI (Wednesday)\n",
    "| GWZ1-6 | Winning numbers 1 to 6\n",
    "| Zz | Additional winning number aka Zusatzzahl\n",
    "| Sz | Additional winning number aka Superzahl. Sz fully replaced Zz in May 5, 2013\n",
    "| Spieleinsatz | Total stake in EUR\n",
    "| I | Quote; # of Winners in category I, the category with the largest possible profit  \n",
    "| 6T_Zz | The single participant profit of category I, 6 correct winning numbers plus Zz/Sz\n",
    "| II | Quote; # of Winners in category II\n",
    "| 6T | The single participant profit of category II\n",
    "| III | Quote; # of Winners in category III\n",
    "| 5T_Zz | The single participant profit of category III\n",
    "| IV | Quote; # of Winners in category IV\n",
    "| 5T | The single participant profit of category IV\n",
    "| V | Quote; # of Winners in category V\n",
    "| 4T_Zz | The single participant profit of category V\n",
    "| VI | Quote; # of Winners in category VI\n",
    "| 4T | The single participant profit of category VI\n",
    "| VII | Quote; # of Winners in category VII\n",
    "| 3T_Zz | The single participant profit of category VII\n",
    "| VIII | Quote; # of Winners in category VIII\n",
    "| 3T | The single participant profit of category VIII\n",
    "| IX | Quote; # of Winners in category IX, the category with the smallest possible profit\n",
    "| 2T_ZZ | The single participant profit of category IX\n",
    "\n",
    "<b>Note:</b><br>\n",
    "Currency is EUR.<br>Until (and including) 29/12/2013 the currency used was DM."
   ]
  },
  {
   "cell_type": "markdown",
   "metadata": {},
   "source": [
    "##### 2.2 CSV Import"
   ]
  },
  {
   "cell_type": "code",
   "execution_count": 41,
   "metadata": {},
   "outputs": [],
   "source": [
    "df = pd.read_csv(lotto_csv_path, sep=';', index_col=0)"
   ]
  },
  {
   "cell_type": "markdown",
   "metadata": {},
   "source": [
    "### 3. Data Preprocessing"
   ]
  },
  {
   "cell_type": "markdown",
   "metadata": {},
   "source": [
    "Column type conversions"
   ]
  },
  {
   "cell_type": "code",
   "execution_count": 42,
   "metadata": {},
   "outputs": [
    {
     "name": "stdout",
     "output_type": "stream",
     "text": [
      "<class 'pandas.core.frame.DataFrame'>\n",
      "Index: 2978 entries, 1.0 to nan\n",
      "Data columns (total 30 columns):\n",
      " #   Column        Non-Null Count  Dtype  \n",
      "---  ------        --------------  -----  \n",
      " 0   Year          2957 non-null   float64\n",
      " 1   MM/DD         2957 non-null   object \n",
      " 2   Day           2957 non-null   object \n",
      " 3   GWZ1          2957 non-null   float64\n",
      " 4   GWZ2          2957 non-null   float64\n",
      " 5   GWZ3          2957 non-null   float64\n",
      " 6   GWZ4          2957 non-null   float64\n",
      " 7   GWZ5          2957 non-null   float64\n",
      " 8   GWZ6          2957 non-null   float64\n",
      " 9   Zz            2957 non-null   object \n",
      " 10  Sz            2957 non-null   object \n",
      " 11  Spieleinsatz  2957 non-null   object \n",
      " 12  I             2957 non-null   object \n",
      " 13  6T_Zz         2957 non-null   object \n",
      " 14  II            2957 non-null   object \n",
      " 15  6T            2957 non-null   object \n",
      " 16  III           2957 non-null   object \n",
      " 17  5T_Zz         2957 non-null   object \n",
      " 18  IV            2957 non-null   float64\n",
      " 19  5T            2957 non-null   object \n",
      " 20  V             2957 non-null   object \n",
      " 21  4T_Zz         2957 non-null   object \n",
      " 22  VI            2957 non-null   float64\n",
      " 23  4T            2957 non-null   object \n",
      " 24  VII           2957 non-null   object \n",
      " 25  3T_Zz         2957 non-null   object \n",
      " 26  VIII          2957 non-null   float64\n",
      " 27  3T            2957 non-null   object \n",
      " 28  IX            2957 non-null   object \n",
      " 29  2T_Zz         2957 non-null   object \n",
      "dtypes: float64(10), object(20)\n",
      "memory usage: 721.2+ KB\n"
     ]
    }
   ],
   "source": [
    "df.info()"
   ]
  },
  {
   "cell_type": "markdown",
   "metadata": {},
   "source": [
    "#### 3.0 Remove empty entries"
   ]
  },
  {
   "cell_type": "markdown",
   "metadata": {},
   "source": [
    "Conversions from Excel (our original data source) might lead to empty rows during conversion. Those need to be removed. "
   ]
  },
  {
   "cell_type": "code",
   "execution_count": 43,
   "metadata": {},
   "outputs": [
    {
     "name": "stdout",
     "output_type": "stream",
     "text": [
      "Empty rows in data set: True\n",
      "Empty rows in data set (final): True\n"
     ]
    }
   ],
   "source": [
    "ds_has_empty_rows = df.isna().any().iloc[0]\n",
    "print(f'Empty rows in data set: {ds_has_empty_rows}')\n",
    "if ds_has_empty_rows:\n",
    "    # drow rows in place that are all na\n",
    "    df.dropna(axis=0, how='all', inplace=True) \n",
    "print(f'Empty rows in data set (final): {ds_has_empty_rows}')"
   ]
  },
  {
   "cell_type": "markdown",
   "metadata": {},
   "source": [
    "#### 3.1 Year column"
   ]
  },
  {
   "cell_type": "code",
   "execution_count": 44,
   "metadata": {},
   "outputs": [
    {
     "name": "stdout",
     "output_type": "stream",
     "text": [
      "<class 'pandas.core.series.Series'>\n",
      "Index: 2957 entries, 1.0 to 42.0\n",
      "Series name: Year\n",
      "Non-Null Count  Dtype \n",
      "--------------  ----- \n",
      "2957 non-null   uint16\n",
      "dtypes: uint16(1)\n",
      "memory usage: 28.9 KB\n"
     ]
    }
   ],
   "source": [
    "df.Year = df.Year.astype(np.ushort)\n",
    "df.Year.info()"
   ]
  },
  {
   "cell_type": "markdown",
   "metadata": {},
   "source": [
    "#### 3.2 MM/DD column"
   ]
  },
  {
   "cell_type": "code",
   "execution_count": 45,
   "metadata": {},
   "outputs": [],
   "source": [
    "# Note: Most likely not needed."
   ]
  },
  {
   "cell_type": "markdown",
   "metadata": {},
   "source": [
    "#### 3.3 Day column"
   ]
  },
  {
   "cell_type": "code",
   "execution_count": 46,
   "metadata": {},
   "outputs": [
    {
     "name": "stdout",
     "output_type": "stream",
     "text": [
      "<class 'pandas.core.series.Series'>\n",
      "Index: 2957 entries, 1.0 to 42.0\n",
      "Series name: Day\n",
      "Non-Null Count  Dtype   \n",
      "--------------  -----   \n",
      "2957 non-null   category\n",
      "dtypes: category(1)\n",
      "memory usage: 26.1 KB\n"
     ]
    }
   ],
   "source": [
    "df.Day = df.Day.astype('category')\n",
    "df.Day.info()"
   ]
  },
  {
   "cell_type": "markdown",
   "metadata": {},
   "source": [
    "#### 3.4 GWZx, Zz, and Sz columns"
   ]
  },
  {
   "cell_type": "code",
   "execution_count": 47,
   "metadata": {},
   "outputs": [],
   "source": [
    "gwz_zz_sz_columns = ['GWZ1', 'GWZ2', 'GWZ3', 'GWZ4', 'GWZ5', 'GWZ6', 'Zz', 'Sz']"
   ]
  },
  {
   "cell_type": "markdown",
   "metadata": {},
   "source": [
    "Replace 'na' to np.NaN for quote columns"
   ]
  },
  {
   "cell_type": "code",
   "execution_count": 48,
   "metadata": {},
   "outputs": [
    {
     "data": {
      "text/plain": [
       "GWZ1       0\n",
       "GWZ2       0\n",
       "GWZ3       0\n",
       "GWZ4       0\n",
       "GWZ5       0\n",
       "GWZ6       0\n",
       "Zz      1092\n",
       "Sz       100\n",
       "dtype: int64"
      ]
     },
     "execution_count": 48,
     "metadata": {},
     "output_type": "execute_result"
    }
   ],
   "source": [
    "# get number of observations with no entries ('na' entries), e.g. because the winning category did not exist yet in the beginning\n",
    "df[df[gwz_zz_sz_columns]=='na'][gwz_zz_sz_columns].count()"
   ]
  },
  {
   "cell_type": "code",
   "execution_count": 49,
   "metadata": {},
   "outputs": [
    {
     "data": {
      "text/plain": [
       "GWZ1    0\n",
       "GWZ2    0\n",
       "GWZ3    0\n",
       "GWZ4    0\n",
       "GWZ5    0\n",
       "GWZ6    0\n",
       "Zz      0\n",
       "Sz      0\n",
       "dtype: int64"
      ]
     },
     "execution_count": 49,
     "metadata": {},
     "output_type": "execute_result"
    }
   ],
   "source": [
    "# set 'na' entries to numpy.NaN\n",
    "df.loc[:, gwz_zz_sz_columns] = df.loc[:, gwz_zz_sz_columns].replace('na', np.NaN, inplace=False)\n",
    "# verify that entries have been replaced (and no 'na' entries exist)\n",
    "df[df[gwz_zz_sz_columns]=='na'][gwz_zz_sz_columns].count()"
   ]
  },
  {
   "cell_type": "code",
   "execution_count": 50,
   "metadata": {},
   "outputs": [
    {
     "name": "stderr",
     "output_type": "stream",
     "text": [
      "C:\\Users\\bruen\\AppData\\Local\\Temp\\ipykernel_9800\\1999689314.py:2: FutureWarning: Setting an item of incompatible dtype is deprecated and will raise in a future error of pandas. Value '[44.0 37.0 8.0 ... 42.0 35.0 31.0]' has dtype incompatible with float64, please explicitly cast to a compatible dtype first.\n",
      "  df.loc[:, gwz_zz_sz_columns[:-2]] = df.loc[:, gwz_zz_sz_columns].fillna(0, axis=1, inplace=False)\n",
      "C:\\Users\\bruen\\AppData\\Local\\Temp\\ipykernel_9800\\1999689314.py:2: FutureWarning: Setting an item of incompatible dtype is deprecated and will raise in a future error of pandas. Value '[45.0 33.0 42.0 ... 30.0 31.0 16.0]' has dtype incompatible with float64, please explicitly cast to a compatible dtype first.\n",
      "  df.loc[:, gwz_zz_sz_columns[:-2]] = df.loc[:, gwz_zz_sz_columns].fillna(0, axis=1, inplace=False)\n",
      "C:\\Users\\bruen\\AppData\\Local\\Temp\\ipykernel_9800\\1999689314.py:2: FutureWarning: Setting an item of incompatible dtype is deprecated and will raise in a future error of pandas. Value '[48.0 12.0 40.0 ... 3.0 10.0 15.0]' has dtype incompatible with float64, please explicitly cast to a compatible dtype first.\n",
      "  df.loc[:, gwz_zz_sz_columns[:-2]] = df.loc[:, gwz_zz_sz_columns].fillna(0, axis=1, inplace=False)\n",
      "C:\\Users\\bruen\\AppData\\Local\\Temp\\ipykernel_9800\\1999689314.py:2: FutureWarning: Setting an item of incompatible dtype is deprecated and will raise in a future error of pandas. Value '[12.0 6.0 1.0 ... 25.0 22.0 47.0]' has dtype incompatible with float64, please explicitly cast to a compatible dtype first.\n",
      "  df.loc[:, gwz_zz_sz_columns[:-2]] = df.loc[:, gwz_zz_sz_columns].fillna(0, axis=1, inplace=False)\n",
      "C:\\Users\\bruen\\AppData\\Local\\Temp\\ipykernel_9800\\1999689314.py:2: FutureWarning: Setting an item of incompatible dtype is deprecated and will raise in a future error of pandas. Value '[46.0 42.0 17.0 ... 16.0 8.0 42.0]' has dtype incompatible with float64, please explicitly cast to a compatible dtype first.\n",
      "  df.loc[:, gwz_zz_sz_columns[:-2]] = df.loc[:, gwz_zz_sz_columns].fillna(0, axis=1, inplace=False)\n",
      "C:\\Users\\bruen\\AppData\\Local\\Temp\\ipykernel_9800\\1999689314.py:2: FutureWarning: Setting an item of incompatible dtype is deprecated and will raise in a future error of pandas. Value '[30.0 15.0 18.0 ... 31.0 29.0 45.0]' has dtype incompatible with float64, please explicitly cast to a compatible dtype first.\n",
      "  df.loc[:, gwz_zz_sz_columns[:-2]] = df.loc[:, gwz_zz_sz_columns].fillna(0, axis=1, inplace=False)\n"
     ]
    }
   ],
   "source": [
    "# replace numpy.NaN entries of GWZx with zeros, due to semantic equivalence with na (0 is not allowed for GWZx)\n",
    "df.loc[:, gwz_zz_sz_columns[:-2]] = df.loc[:, gwz_zz_sz_columns].fillna(0, axis=1, inplace=False)\n",
    "# replace numpy.NaN entries of Sz and Sz with -1 (0 is allowed for Sz)\n",
    "df.loc[:, gwz_zz_sz_columns[-2:]] = df.loc[:, gwz_zz_sz_columns].fillna(0, axis=1, inplace=False)"
   ]
  },
  {
   "cell_type": "code",
   "execution_count": 51,
   "metadata": {},
   "outputs": [
    {
     "name": "stdout",
     "output_type": "stream",
     "text": [
      "<class 'pandas.core.frame.DataFrame'>\n",
      "Index: 2957 entries, 1.0 to 42.0\n",
      "Data columns (total 8 columns):\n",
      " #   Column  Non-Null Count  Dtype \n",
      "---  ------  --------------  ----- \n",
      " 0   GWZ1    2957 non-null   uint32\n",
      " 1   GWZ2    2957 non-null   uint32\n",
      " 2   GWZ3    2957 non-null   uint32\n",
      " 3   GWZ4    2957 non-null   uint32\n",
      " 4   GWZ5    2957 non-null   uint32\n",
      " 5   GWZ6    2957 non-null   uint32\n",
      " 6   Zz      2957 non-null   uint32\n",
      " 7   Sz      2957 non-null   uint32\n",
      "dtypes: uint32(8)\n",
      "memory usage: 115.5 KB\n"
     ]
    }
   ],
   "source": [
    "# convert to final (target) data type (integer)\n",
    "df[gwz_zz_sz_columns] = df[gwz_zz_sz_columns].astype(np.uintc)\n",
    "df[gwz_zz_sz_columns].info()"
   ]
  },
  {
   "cell_type": "markdown",
   "metadata": {},
   "source": [
    "#### 3.5 Quote columns (quote ~ # winners)"
   ]
  },
  {
   "cell_type": "code",
   "execution_count": 52,
   "metadata": {},
   "outputs": [],
   "source": [
    "quote_columns = ['I', 'II', 'III', 'IV', 'V', 'VI', 'VII', 'VIII', 'IX']"
   ]
  },
  {
   "cell_type": "markdown",
   "metadata": {},
   "source": [
    "Some data types are incorrect. This can be explained e.g. by the empty (na) rows.<br>NA values for example cannot be converted to integer but float64.<br>One such example is the Year column.<br><br>1. Set na values of certain columns to 0 due to equivalent semantic meaning.<br>2. Convert int columns from float to int."
   ]
  },
  {
   "cell_type": "code",
   "execution_count": 53,
   "metadata": {},
   "outputs": [],
   "source": [
    "# remove all potential blanks for quote columns of type object (string)\n",
    "quote_str_columns = ['I', 'II', 'III', 'V', 'VII', 'IX']\n",
    "df.loc[:, quote_str_columns] = df.loc[:, quote_str_columns].apply(lambda x: x.str.strip())"
   ]
  },
  {
   "cell_type": "markdown",
   "metadata": {},
   "source": [
    "Replace 'na' to np.NaN for quote columns"
   ]
  },
  {
   "cell_type": "code",
   "execution_count": 54,
   "metadata": {},
   "outputs": [
    {
     "data": {
      "text/plain": [
       "I        107\n",
       "II        71\n",
       "III        0\n",
       "IV         0\n",
       "V        489\n",
       "VI         0\n",
       "VII      100\n",
       "VIII       0\n",
       "IX      1865\n",
       "dtype: int64"
      ]
     },
     "execution_count": 54,
     "metadata": {},
     "output_type": "execute_result"
    }
   ],
   "source": [
    "# get number of observations with no entries ('na' entries), e.g. because the winning category did not exist yet in the beginning\n",
    "df[df[quote_columns]=='na'][quote_columns].count()"
   ]
  },
  {
   "cell_type": "code",
   "execution_count": 55,
   "metadata": {},
   "outputs": [
    {
     "data": {
      "text/plain": [
       "I       0\n",
       "II      0\n",
       "III     0\n",
       "IV      0\n",
       "V       0\n",
       "VI      0\n",
       "VII     0\n",
       "VIII    0\n",
       "IX      0\n",
       "dtype: int64"
      ]
     },
     "execution_count": 55,
     "metadata": {},
     "output_type": "execute_result"
    }
   ],
   "source": [
    "# set 'na' entries to numpy.NaN\n",
    "df.loc[:, quote_columns] = df.loc[:, quote_columns].replace('na', np.NaN, inplace=False)\n",
    "# verify that entries have been replaced (and no 'na' entries exist)\n",
    "df[df[quote_columns]=='na'][quote_columns].count()"
   ]
  },
  {
   "cell_type": "code",
   "execution_count": 56,
   "metadata": {},
   "outputs": [
    {
     "name": "stderr",
     "output_type": "stream",
     "text": [
      "C:\\Users\\bruen\\AppData\\Local\\Temp\\ipykernel_9800\\2836301153.py:2: FutureWarning: Setting an item of incompatible dtype is deprecated and will raise in a future error of pandas. Value '[949.0 2217.0 1490.0 ... 300.0 384.0 235.0]' has dtype incompatible with float64, please explicitly cast to a compatible dtype first.\n",
      "  df.loc[:, quote_columns] = df.loc[:, quote_columns].fillna(0, axis=1, inplace=False)\n",
      "C:\\Users\\bruen\\AppData\\Local\\Temp\\ipykernel_9800\\2836301153.py:2: FutureWarning: Setting an item of incompatible dtype is deprecated and will raise in a future error of pandas. Value '[120914.0 102278.0 83043.0 ... 17291.0 26454.0 13698.0]' has dtype incompatible with float64, please explicitly cast to a compatible dtype first.\n",
      "  df.loc[:, quote_columns] = df.loc[:, quote_columns].fillna(0, axis=1, inplace=False)\n",
      "C:\\Users\\bruen\\AppData\\Local\\Temp\\ipykernel_9800\\2836301153.py:2: FutureWarning: Setting an item of incompatible dtype is deprecated and will raise in a future error of pandas. Value '[1607023.0 1772874.0 1648051.0 ... 321396.0 530896.0 260428.0]' has dtype incompatible with float64, please explicitly cast to a compatible dtype first.\n",
      "  df.loc[:, quote_columns] = df.loc[:, quote_columns].fillna(0, axis=1, inplace=False)\n"
     ]
    }
   ],
   "source": [
    "# replace numpy.NaN entries with zeros, due to semantic equivalence\n",
    "df.loc[:, quote_columns] = df.loc[:, quote_columns].fillna(0, axis=1, inplace=False)"
   ]
  },
  {
   "cell_type": "markdown",
   "metadata": {},
   "source": [
    "Replace 'JP' with '1.0' for quote columns, due to semantic equality"
   ]
  },
  {
   "cell_type": "code",
   "execution_count": 57,
   "metadata": {},
   "outputs": [
    {
     "data": {
      "text/plain": [
       "I       2036\n",
       "II       327\n",
       "III        1\n",
       "IV         0\n",
       "V          0\n",
       "VI         0\n",
       "VII        0\n",
       "VIII       0\n",
       "IX         0\n",
       "dtype: int64"
      ]
     },
     "execution_count": 57,
     "metadata": {},
     "output_type": "execute_result"
    }
   ],
   "source": [
    "# get number of observations with JP (JackPot) entries\n",
    "df[df[quote_columns]=='JP'][quote_columns].count()"
   ]
  },
  {
   "cell_type": "code",
   "execution_count": 58,
   "metadata": {},
   "outputs": [
    {
     "data": {
      "text/plain": [
       "I       0\n",
       "II      0\n",
       "III     0\n",
       "IV      0\n",
       "V       0\n",
       "VI      0\n",
       "VII     0\n",
       "VIII    0\n",
       "IX      0\n",
       "dtype: int64"
      ]
     },
     "execution_count": 58,
     "metadata": {},
     "output_type": "execute_result"
    }
   ],
   "source": [
    "# set 'na' entries to numpy.NaN\n",
    "df.loc[:, quote_columns] = df.loc[:, quote_columns].replace('JP', 1.0, inplace=False)\n",
    "# verify that entries have been replaced (and no 'na' entries exist)\n",
    "df[df[quote_columns]=='JP'][quote_columns].count()"
   ]
  },
  {
   "cell_type": "markdown",
   "metadata": {},
   "source": [
    "Convert quote columns (str) to integer"
   ]
  },
  {
   "cell_type": "code",
   "execution_count": 59,
   "metadata": {},
   "outputs": [
    {
     "name": "stdout",
     "output_type": "stream",
     "text": [
      "<class 'pandas.core.frame.DataFrame'>\n",
      "Index: 2957 entries, 1.0 to 42.0\n",
      "Data columns (total 9 columns):\n",
      " #   Column  Non-Null Count  Dtype \n",
      "---  ------  --------------  ----- \n",
      " 0   I       2957 non-null   uint32\n",
      " 1   II      2957 non-null   uint32\n",
      " 2   III     2957 non-null   uint32\n",
      " 3   IV      2957 non-null   uint32\n",
      " 4   V       2957 non-null   uint32\n",
      " 5   VI      2957 non-null   uint32\n",
      " 6   VII     2957 non-null   uint32\n",
      " 7   VIII    2957 non-null   uint32\n",
      " 8   IX      2957 non-null   uint32\n",
      "dtypes: uint32(9)\n",
      "memory usage: 127.1 KB\n"
     ]
    }
   ],
   "source": [
    "# convert to final (target) data type (integer)\n",
    "df[quote_columns] = df[quote_columns].astype(np.uintc)\n",
    "df[quote_columns].info()"
   ]
  },
  {
   "cell_type": "markdown",
   "metadata": {},
   "source": [
    "#### 3.6 Currency columns"
   ]
  },
  {
   "cell_type": "code",
   "execution_count": 60,
   "metadata": {},
   "outputs": [],
   "source": [
    "currency_columns = ['Spieleinsatz', '6T_Zz', '6T', '5T_Zz', '5T', '4T_Zz', '4T', '3T_Zz', '3T', '2T_Zz']"
   ]
  },
  {
   "cell_type": "markdown",
   "metadata": {},
   "source": [
    "Replace 'na' to np.NaN for quote columns"
   ]
  },
  {
   "cell_type": "code",
   "execution_count": 61,
   "metadata": {},
   "outputs": [
    {
     "data": {
      "text/plain": [
       "Spieleinsatz       0\n",
       "6T_Zz            108\n",
       "6T                71\n",
       "5T_Zz              0\n",
       "5T                 0\n",
       "4T_Zz            489\n",
       "4T                 0\n",
       "3T_Zz            100\n",
       "3T                 0\n",
       "2T_Zz           1865\n",
       "dtype: int64"
      ]
     },
     "execution_count": 61,
     "metadata": {},
     "output_type": "execute_result"
    }
   ],
   "source": [
    "# get number of observations with no entries ('na' entries), e.g. because the winning category did not exist yet in the beginning\n",
    "df[df[currency_columns]=='na'][currency_columns].count()"
   ]
  },
  {
   "cell_type": "code",
   "execution_count": 62,
   "metadata": {},
   "outputs": [
    {
     "data": {
      "text/plain": [
       "Spieleinsatz    0\n",
       "6T_Zz           0\n",
       "6T              0\n",
       "5T_Zz           0\n",
       "5T              0\n",
       "4T_Zz           0\n",
       "4T              0\n",
       "3T_Zz           0\n",
       "3T              0\n",
       "2T_Zz           0\n",
       "dtype: int64"
      ]
     },
     "execution_count": 62,
     "metadata": {},
     "output_type": "execute_result"
    }
   ],
   "source": [
    "# set 'na' entries to numpy.NaN\n",
    "df.loc[:, currency_columns] = df.loc[:, currency_columns].replace('na', np.NaN, inplace=False)\n",
    "# verify that entries have been replaced (and no 'na' entries exist)\n",
    "df[df[currency_columns]=='na'][currency_columns].count()"
   ]
  },
  {
   "cell_type": "code",
   "execution_count": 63,
   "metadata": {},
   "outputs": [],
   "source": [
    "# replace numpy.NaN entries with zeros, due to semantic equivalence\n",
    "df.loc[:, currency_columns] = df.loc[:, currency_columns].fillna(0, axis=1, inplace=False)"
   ]
  },
  {
   "cell_type": "markdown",
   "metadata": {},
   "source": [
    "Convert quote columns (str) to integer"
   ]
  },
  {
   "cell_type": "code",
   "execution_count": 64,
   "metadata": {},
   "outputs": [
    {
     "name": "stdout",
     "output_type": "stream",
     "text": [
      "<class 'pandas.core.frame.DataFrame'>\n",
      "Index: 2957 entries, 1.0 to 42.0\n",
      "Data columns (total 30 columns):\n",
      " #   Column        Non-Null Count  Dtype   \n",
      "---  ------        --------------  -----   \n",
      " 0   Year          2957 non-null   uint16  \n",
      " 1   MM/DD         2957 non-null   object  \n",
      " 2   Day           2957 non-null   category\n",
      " 3   GWZ1          2957 non-null   uint32  \n",
      " 4   GWZ2          2957 non-null   uint32  \n",
      " 5   GWZ3          2957 non-null   uint32  \n",
      " 6   GWZ4          2957 non-null   uint32  \n",
      " 7   GWZ5          2957 non-null   uint32  \n",
      " 8   GWZ6          2957 non-null   uint32  \n",
      " 9   Zz            2957 non-null   uint32  \n",
      " 10  Sz            2957 non-null   uint32  \n",
      " 11  Spieleinsatz  2957 non-null   float32 \n",
      " 12  I             2957 non-null   uint32  \n",
      " 13  6T_Zz         2957 non-null   float32 \n",
      " 14  II            2957 non-null   uint32  \n",
      " 15  6T            2957 non-null   float32 \n",
      " 16  III           2957 non-null   uint32  \n",
      " 17  5T_Zz         2957 non-null   float32 \n",
      " 18  IV            2957 non-null   uint32  \n",
      " 19  5T            2957 non-null   float32 \n",
      " 20  V             2957 non-null   uint32  \n",
      " 21  4T_Zz         2957 non-null   float32 \n",
      " 22  VI            2957 non-null   uint32  \n",
      " 23  4T            2957 non-null   float32 \n",
      " 24  VII           2957 non-null   uint32  \n",
      " 25  3T_Zz         2957 non-null   float32 \n",
      " 26  VIII          2957 non-null   uint32  \n",
      " 27  3T            2957 non-null   float32 \n",
      " 28  IX            2957 non-null   uint32  \n",
      " 29  2T_Zz         2957 non-null   float32 \n",
      "dtypes: category(1), float32(10), object(1), uint16(1), uint32(17)\n",
      "memory usage: 366.9+ KB\n"
     ]
    }
   ],
   "source": [
    "# convert to final (target) data type (integer)\n",
    "df[currency_columns] = df[currency_columns].apply(lambda x: x.str.replace(',','.')).astype(np.float32)\n",
    "df[currency_columns] = df[currency_columns].fillna(0, axis=1, inplace=False)\n",
    "df.info()"
   ]
  },
  {
   "cell_type": "code",
   "execution_count": 65,
   "metadata": {},
   "outputs": [
    {
     "data": {
      "text/html": [
       "<div>\n",
       "<style scoped>\n",
       "    .dataframe tbody tr th:only-of-type {\n",
       "        vertical-align: middle;\n",
       "    }\n",
       "\n",
       "    .dataframe tbody tr th {\n",
       "        vertical-align: top;\n",
       "    }\n",
       "\n",
       "    .dataframe thead th {\n",
       "        text-align: right;\n",
       "    }\n",
       "</style>\n",
       "<table border=\"1\" class=\"dataframe\">\n",
       "  <thead>\n",
       "    <tr style=\"text-align: right;\">\n",
       "      <th></th>\n",
       "      <th>Spieleinsatz</th>\n",
       "      <th>6T_Zz</th>\n",
       "      <th>6T</th>\n",
       "      <th>5T_Zz</th>\n",
       "      <th>5T</th>\n",
       "      <th>4T_Zz</th>\n",
       "      <th>4T</th>\n",
       "      <th>3T_Zz</th>\n",
       "      <th>3T</th>\n",
       "      <th>2T_Zz</th>\n",
       "    </tr>\n",
       "    <tr>\n",
       "      <th>Index</th>\n",
       "      <th></th>\n",
       "      <th></th>\n",
       "      <th></th>\n",
       "      <th></th>\n",
       "      <th></th>\n",
       "      <th></th>\n",
       "      <th></th>\n",
       "      <th></th>\n",
       "      <th></th>\n",
       "      <th></th>\n",
       "    </tr>\n",
       "  </thead>\n",
       "  <tbody>\n",
       "    <tr>\n",
       "      <th>1.0</th>\n",
       "      <td>104514784.0</td>\n",
       "      <td>0.0</td>\n",
       "      <td>1.567722e+06</td>\n",
       "      <td>1.567722e+06</td>\n",
       "      <td>12389.700195</td>\n",
       "      <td>0.0</td>\n",
       "      <td>97.199997</td>\n",
       "      <td>0.0</td>\n",
       "      <td>10.5</td>\n",
       "      <td>0.0</td>\n",
       "    </tr>\n",
       "    <tr>\n",
       "      <th>2.0</th>\n",
       "      <td>105488112.0</td>\n",
       "      <td>0.0</td>\n",
       "      <td>6.593007e+05</td>\n",
       "      <td>6.593007e+05</td>\n",
       "      <td>5352.899902</td>\n",
       "      <td>0.0</td>\n",
       "      <td>116.000000</td>\n",
       "      <td>0.0</td>\n",
       "      <td>9.6</td>\n",
       "      <td>0.0</td>\n",
       "    </tr>\n",
       "    <tr>\n",
       "      <th>3.0</th>\n",
       "      <td>104143680.0</td>\n",
       "      <td>0.0</td>\n",
       "      <td>1.301796e+06</td>\n",
       "      <td>1.301796e+06</td>\n",
       "      <td>7863.100098</td>\n",
       "      <td>0.0</td>\n",
       "      <td>141.000000</td>\n",
       "      <td>0.0</td>\n",
       "      <td>10.2</td>\n",
       "      <td>0.0</td>\n",
       "    </tr>\n",
       "    <tr>\n",
       "      <th>4.0</th>\n",
       "      <td>103208216.0</td>\n",
       "      <td>0.0</td>\n",
       "      <td>8.600684e+05</td>\n",
       "      <td>8.600684e+05</td>\n",
       "      <td>5348.100098</td>\n",
       "      <td>0.0</td>\n",
       "      <td>98.699997</td>\n",
       "      <td>0.0</td>\n",
       "      <td>8.3</td>\n",
       "      <td>0.0</td>\n",
       "    </tr>\n",
       "    <tr>\n",
       "      <th>5.0</th>\n",
       "      <td>112148488.0</td>\n",
       "      <td>0.0</td>\n",
       "      <td>2.803712e+06</td>\n",
       "      <td>2.803712e+06</td>\n",
       "      <td>10914.099609</td>\n",
       "      <td>0.0</td>\n",
       "      <td>176.800003</td>\n",
       "      <td>0.0</td>\n",
       "      <td>12.5</td>\n",
       "      <td>0.0</td>\n",
       "    </tr>\n",
       "  </tbody>\n",
       "</table>\n",
       "</div>"
      ],
      "text/plain": [
       "       Spieleinsatz  6T_Zz            6T         5T_Zz            5T  4T_Zz  \\\n",
       "Index                                                                         \n",
       "1.0     104514784.0    0.0  1.567722e+06  1.567722e+06  12389.700195    0.0   \n",
       "2.0     105488112.0    0.0  6.593007e+05  6.593007e+05   5352.899902    0.0   \n",
       "3.0     104143680.0    0.0  1.301796e+06  1.301796e+06   7863.100098    0.0   \n",
       "4.0     103208216.0    0.0  8.600684e+05  8.600684e+05   5348.100098    0.0   \n",
       "5.0     112148488.0    0.0  2.803712e+06  2.803712e+06  10914.099609    0.0   \n",
       "\n",
       "               4T  3T_Zz    3T  2T_Zz  \n",
       "Index                                  \n",
       "1.0     97.199997    0.0  10.5    0.0  \n",
       "2.0    116.000000    0.0   9.6    0.0  \n",
       "3.0    141.000000    0.0  10.2    0.0  \n",
       "4.0     98.699997    0.0   8.3    0.0  \n",
       "5.0    176.800003    0.0  12.5    0.0  "
      ]
     },
     "execution_count": 65,
     "metadata": {},
     "output_type": "execute_result"
    }
   ],
   "source": [
    "df[currency_columns].head()"
   ]
  },
  {
   "cell_type": "code",
   "execution_count": 66,
   "metadata": {},
   "outputs": [
    {
     "data": {
      "text/html": [
       "<div>\n",
       "<style scoped>\n",
       "    .dataframe tbody tr th:only-of-type {\n",
       "        vertical-align: middle;\n",
       "    }\n",
       "\n",
       "    .dataframe tbody tr th {\n",
       "        vertical-align: top;\n",
       "    }\n",
       "\n",
       "    .dataframe thead th {\n",
       "        text-align: right;\n",
       "    }\n",
       "</style>\n",
       "<table border=\"1\" class=\"dataframe\">\n",
       "  <thead>\n",
       "    <tr style=\"text-align: right;\">\n",
       "      <th></th>\n",
       "      <th>Spieleinsatz</th>\n",
       "      <th>6T_Zz</th>\n",
       "      <th>6T</th>\n",
       "      <th>5T_Zz</th>\n",
       "      <th>5T</th>\n",
       "      <th>4T_Zz</th>\n",
       "      <th>4T</th>\n",
       "      <th>3T_Zz</th>\n",
       "      <th>3T</th>\n",
       "      <th>2T_Zz</th>\n",
       "    </tr>\n",
       "    <tr>\n",
       "      <th>Index</th>\n",
       "      <th></th>\n",
       "      <th></th>\n",
       "      <th></th>\n",
       "      <th></th>\n",
       "      <th></th>\n",
       "      <th></th>\n",
       "      <th></th>\n",
       "      <th></th>\n",
       "      <th></th>\n",
       "      <th></th>\n",
       "    </tr>\n",
       "  </thead>\n",
       "  <tbody>\n",
       "    <tr>\n",
       "      <th>40.0</th>\n",
       "      <td>22745274.0</td>\n",
       "      <td>1705895.5</td>\n",
       "      <td>1243710.50</td>\n",
       "      <td>22692.199219</td>\n",
       "      <td>6764.000000</td>\n",
       "      <td>265.000000</td>\n",
       "      <td>63.299999</td>\n",
       "      <td>25.100000</td>\n",
       "      <td>12.5</td>\n",
       "      <td>6.0</td>\n",
       "    </tr>\n",
       "    <tr>\n",
       "      <th>40.0</th>\n",
       "      <td>44378320.0</td>\n",
       "      <td>5034269.5</td>\n",
       "      <td>3739743.00</td>\n",
       "      <td>13956.299805</td>\n",
       "      <td>4532.899902</td>\n",
       "      <td>263.600006</td>\n",
       "      <td>52.700001</td>\n",
       "      <td>29.299999</td>\n",
       "      <td>11.5</td>\n",
       "      <td>6.0</td>\n",
       "    </tr>\n",
       "    <tr>\n",
       "      <th>41.0</th>\n",
       "      <td>23553136.0</td>\n",
       "      <td>11778089.0</td>\n",
       "      <td>0.00</td>\n",
       "      <td>11000.799805</td>\n",
       "      <td>4262.799805</td>\n",
       "      <td>169.500000</td>\n",
       "      <td>48.599998</td>\n",
       "      <td>18.299999</td>\n",
       "      <td>10.5</td>\n",
       "      <td>6.0</td>\n",
       "    </tr>\n",
       "    <tr>\n",
       "      <th>41.0</th>\n",
       "      <td>45335512.0</td>\n",
       "      <td>3400163.5</td>\n",
       "      <td>2352212.50</td>\n",
       "      <td>12943.299805</td>\n",
       "      <td>6329.700195</td>\n",
       "      <td>169.699997</td>\n",
       "      <td>60.400002</td>\n",
       "      <td>17.700001</td>\n",
       "      <td>12.1</td>\n",
       "      <td>6.0</td>\n",
       "    </tr>\n",
       "    <tr>\n",
       "      <th>42.0</th>\n",
       "      <td>22793734.0</td>\n",
       "      <td>5109693.5</td>\n",
       "      <td>3621788.75</td>\n",
       "      <td>17604.699219</td>\n",
       "      <td>5582.500000</td>\n",
       "      <td>263.899994</td>\n",
       "      <td>63.000000</td>\n",
       "      <td>28.000000</td>\n",
       "      <td>13.3</td>\n",
       "      <td>6.0</td>\n",
       "    </tr>\n",
       "  </tbody>\n",
       "</table>\n",
       "</div>"
      ],
      "text/plain": [
       "       Spieleinsatz       6T_Zz          6T         5T_Zz           5T  \\\n",
       "Index                                                                    \n",
       "40.0     22745274.0   1705895.5  1243710.50  22692.199219  6764.000000   \n",
       "40.0     44378320.0   5034269.5  3739743.00  13956.299805  4532.899902   \n",
       "41.0     23553136.0  11778089.0        0.00  11000.799805  4262.799805   \n",
       "41.0     45335512.0   3400163.5  2352212.50  12943.299805  6329.700195   \n",
       "42.0     22793734.0   5109693.5  3621788.75  17604.699219  5582.500000   \n",
       "\n",
       "            4T_Zz         4T      3T_Zz    3T  2T_Zz  \n",
       "Index                                                 \n",
       "40.0   265.000000  63.299999  25.100000  12.5    6.0  \n",
       "40.0   263.600006  52.700001  29.299999  11.5    6.0  \n",
       "41.0   169.500000  48.599998  18.299999  10.5    6.0  \n",
       "41.0   169.699997  60.400002  17.700001  12.1    6.0  \n",
       "42.0   263.899994  63.000000  28.000000  13.3    6.0  "
      ]
     },
     "execution_count": 66,
     "metadata": {},
     "output_type": "execute_result"
    }
   ],
   "source": [
    "df[currency_columns].tail()"
   ]
  },
  {
   "cell_type": "markdown",
   "metadata": {},
   "source": [
    "Currency adjustments (DM -> EUR)"
   ]
  },
  {
   "cell_type": "code",
   "execution_count": 67,
   "metadata": {},
   "outputs": [
    {
     "data": {
      "text/html": [
       "<div>\n",
       "<style scoped>\n",
       "    .dataframe tbody tr th:only-of-type {\n",
       "        vertical-align: middle;\n",
       "    }\n",
       "\n",
       "    .dataframe tbody tr th {\n",
       "        vertical-align: top;\n",
       "    }\n",
       "\n",
       "    .dataframe thead th {\n",
       "        text-align: right;\n",
       "    }\n",
       "</style>\n",
       "<table border=\"1\" class=\"dataframe\">\n",
       "  <thead>\n",
       "    <tr style=\"text-align: right;\">\n",
       "      <th></th>\n",
       "      <th>Year</th>\n",
       "      <th>MM/DD</th>\n",
       "      <th>Day</th>\n",
       "      <th>GWZ1</th>\n",
       "      <th>GWZ2</th>\n",
       "      <th>GWZ3</th>\n",
       "      <th>GWZ4</th>\n",
       "      <th>GWZ5</th>\n",
       "      <th>GWZ6</th>\n",
       "      <th>Zz</th>\n",
       "      <th>...</th>\n",
       "      <th>V</th>\n",
       "      <th>4T_Zz</th>\n",
       "      <th>VI</th>\n",
       "      <th>4T</th>\n",
       "      <th>VII</th>\n",
       "      <th>3T_Zz</th>\n",
       "      <th>VIII</th>\n",
       "      <th>3T</th>\n",
       "      <th>IX</th>\n",
       "      <th>2T_Zz</th>\n",
       "    </tr>\n",
       "    <tr>\n",
       "      <th>Index</th>\n",
       "      <th></th>\n",
       "      <th></th>\n",
       "      <th></th>\n",
       "      <th></th>\n",
       "      <th></th>\n",
       "      <th></th>\n",
       "      <th></th>\n",
       "      <th></th>\n",
       "      <th></th>\n",
       "      <th></th>\n",
       "      <th></th>\n",
       "      <th></th>\n",
       "      <th></th>\n",
       "      <th></th>\n",
       "      <th></th>\n",
       "      <th></th>\n",
       "      <th></th>\n",
       "      <th></th>\n",
       "      <th></th>\n",
       "      <th></th>\n",
       "      <th></th>\n",
       "    </tr>\n",
       "  </thead>\n",
       "  <tbody>\n",
       "    <tr>\n",
       "      <th>1.0</th>\n",
       "      <td>1990</td>\n",
       "      <td>06/01/</td>\n",
       "      <td>SA</td>\n",
       "      <td>44</td>\n",
       "      <td>45</td>\n",
       "      <td>48</td>\n",
       "      <td>12</td>\n",
       "      <td>46</td>\n",
       "      <td>30</td>\n",
       "      <td>2</td>\n",
       "      <td>...</td>\n",
       "      <td>0</td>\n",
       "      <td>0.0</td>\n",
       "      <td>120914</td>\n",
       "      <td>49.697388</td>\n",
       "      <td>0</td>\n",
       "      <td>0.0</td>\n",
       "      <td>1607023</td>\n",
       "      <td>5.368545</td>\n",
       "      <td>0</td>\n",
       "      <td>0.0</td>\n",
       "    </tr>\n",
       "    <tr>\n",
       "      <th>2.0</th>\n",
       "      <td>1990</td>\n",
       "      <td>13/01/</td>\n",
       "      <td>SA</td>\n",
       "      <td>37</td>\n",
       "      <td>33</td>\n",
       "      <td>12</td>\n",
       "      <td>6</td>\n",
       "      <td>42</td>\n",
       "      <td>15</td>\n",
       "      <td>9</td>\n",
       "      <td>...</td>\n",
       "      <td>0</td>\n",
       "      <td>0.0</td>\n",
       "      <td>102278</td>\n",
       "      <td>59.309643</td>\n",
       "      <td>0</td>\n",
       "      <td>0.0</td>\n",
       "      <td>1772874</td>\n",
       "      <td>4.908384</td>\n",
       "      <td>0</td>\n",
       "      <td>0.0</td>\n",
       "    </tr>\n",
       "    <tr>\n",
       "      <th>3.0</th>\n",
       "      <td>1990</td>\n",
       "      <td>20/01/</td>\n",
       "      <td>SA</td>\n",
       "      <td>8</td>\n",
       "      <td>42</td>\n",
       "      <td>40</td>\n",
       "      <td>1</td>\n",
       "      <td>17</td>\n",
       "      <td>18</td>\n",
       "      <td>10</td>\n",
       "      <td>...</td>\n",
       "      <td>0</td>\n",
       "      <td>0.0</td>\n",
       "      <td>83043</td>\n",
       "      <td>72.091888</td>\n",
       "      <td>0</td>\n",
       "      <td>0.0</td>\n",
       "      <td>1648051</td>\n",
       "      <td>5.215158</td>\n",
       "      <td>0</td>\n",
       "      <td>0.0</td>\n",
       "    </tr>\n",
       "    <tr>\n",
       "      <th>4.0</th>\n",
       "      <td>1990</td>\n",
       "      <td>27/01/</td>\n",
       "      <td>SA</td>\n",
       "      <td>12</td>\n",
       "      <td>10</td>\n",
       "      <td>42</td>\n",
       "      <td>6</td>\n",
       "      <td>9</td>\n",
       "      <td>37</td>\n",
       "      <td>44</td>\n",
       "      <td>...</td>\n",
       "      <td>0</td>\n",
       "      <td>0.0</td>\n",
       "      <td>117530</td>\n",
       "      <td>50.464321</td>\n",
       "      <td>0</td>\n",
       "      <td>0.0</td>\n",
       "      <td>1999733</td>\n",
       "      <td>4.243707</td>\n",
       "      <td>0</td>\n",
       "      <td>0.0</td>\n",
       "    </tr>\n",
       "    <tr>\n",
       "      <th>5.0</th>\n",
       "      <td>1990</td>\n",
       "      <td>03/02/</td>\n",
       "      <td>SA</td>\n",
       "      <td>29</td>\n",
       "      <td>46</td>\n",
       "      <td>48</td>\n",
       "      <td>42</td>\n",
       "      <td>35</td>\n",
       "      <td>20</td>\n",
       "      <td>45</td>\n",
       "      <td>...</td>\n",
       "      <td>0</td>\n",
       "      <td>0.0</td>\n",
       "      <td>71328</td>\n",
       "      <td>90.396072</td>\n",
       "      <td>0</td>\n",
       "      <td>0.0</td>\n",
       "      <td>1446763</td>\n",
       "      <td>6.391125</td>\n",
       "      <td>0</td>\n",
       "      <td>0.0</td>\n",
       "    </tr>\n",
       "  </tbody>\n",
       "</table>\n",
       "<p>5 rows × 30 columns</p>\n",
       "</div>"
      ],
      "text/plain": [
       "       Year   MM/DD Day  GWZ1  GWZ2  GWZ3  GWZ4  GWZ5  GWZ6  Zz  ...  V  \\\n",
       "Index                                                            ...      \n",
       "1.0    1990  06/01/  SA    44    45    48    12    46    30   2  ...  0   \n",
       "2.0    1990  13/01/  SA    37    33    12     6    42    15   9  ...  0   \n",
       "3.0    1990  20/01/  SA     8    42    40     1    17    18  10  ...  0   \n",
       "4.0    1990  27/01/  SA    12    10    42     6     9    37  44  ...  0   \n",
       "5.0    1990  03/02/  SA    29    46    48    42    35    20  45  ...  0   \n",
       "\n",
       "       4T_Zz      VI         4T  VII  3T_Zz     VIII        3T  IX  2T_Zz  \n",
       "Index                                                                      \n",
       "1.0      0.0  120914  49.697388    0    0.0  1607023  5.368545   0    0.0  \n",
       "2.0      0.0  102278  59.309643    0    0.0  1772874  4.908384   0    0.0  \n",
       "3.0      0.0   83043  72.091888    0    0.0  1648051  5.215158   0    0.0  \n",
       "4.0      0.0  117530  50.464321    0    0.0  1999733  4.243707   0    0.0  \n",
       "5.0      0.0   71328  90.396072    0    0.0  1446763  6.391125   0    0.0  \n",
       "\n",
       "[5 rows x 30 columns]"
      ]
     },
     "execution_count": 67,
     "metadata": {},
     "output_type": "execute_result"
    }
   ],
   "source": [
    "# convert DM currency entries to Euro\n",
    "dm_to_eur_conv_rate = 0.51129\n",
    "df.loc[df.Year < 2002, currency_columns] = df.loc[df.Year < 2002, currency_columns].apply(lambda x: x * dm_to_eur_conv_rate)\n",
    "df.head()"
   ]
  },
  {
   "cell_type": "markdown",
   "metadata": {},
   "source": [
    "Unify date format"
   ]
  },
  {
   "cell_type": "code",
   "execution_count": 68,
   "metadata": {},
   "outputs": [],
   "source": [
    "df['MM/DD'] = df['MM/DD'].apply(lambda x: x.replace('.', '/'))"
   ]
  },
  {
   "cell_type": "markdown",
   "metadata": {},
   "source": [
    "#### 3.7 Feature Engineering"
   ]
  },
  {
   "cell_type": "code",
   "execution_count": 69,
   "metadata": {},
   "outputs": [
    {
     "data": {
      "text/plain": [
       "Index(['Year', 'MM/DD', 'Day', 'GWZ1', 'GWZ2', 'GWZ3', 'GWZ4', 'GWZ5', 'GWZ6',\n",
       "       'Zz', 'Sz', 'Spieleinsatz', 'I', '6T_Zz', 'II', '6T', 'III', '5T_Zz',\n",
       "       'IV', '5T', 'V', '4T_Zz', 'VI', '4T', 'VII', '3T_Zz', 'VIII', '3T',\n",
       "       'IX', '2T_Zz'],\n",
       "      dtype='object')"
      ]
     },
     "execution_count": 69,
     "metadata": {},
     "output_type": "execute_result"
    }
   ],
   "source": [
    "df.columns"
   ]
  },
  {
   "cell_type": "code",
   "execution_count": 70,
   "metadata": {},
   "outputs": [],
   "source": [
    "df['Total_payout'] = df['I'] * df['6T_Zz'] + df['II'] * df['6T'] + df['III'] * df['5T_Zz'] + df['IV'] * df['5T'] + df['V'] * df['4T_Zz'] + df['VI'] * df['4T'] + df['VII'] * df['3T_Zz'] + df['VIII'] * df['3T'] + df['IX'] * df['2T_Zz']"
   ]
  },
  {
   "cell_type": "code",
   "execution_count": 71,
   "metadata": {},
   "outputs": [
    {
     "data": {
      "text/plain": [
       "Timestamp('1990-11-16 00:00:00')"
      ]
     },
     "execution_count": 71,
     "metadata": {},
     "output_type": "execute_result"
    }
   ],
   "source": [
    "pd.to_datetime('16/11/1990', format='%d/%m/%Y')"
   ]
  },
  {
   "cell_type": "code",
   "execution_count": 72,
   "metadata": {},
   "outputs": [
    {
     "data": {
      "text/plain": [
       "Index\n",
       "1.0    1990-01-06\n",
       "2.0    1990-01-13\n",
       "3.0    1990-01-20\n",
       "4.0    1990-01-27\n",
       "5.0    1990-02-03\n",
       "          ...    \n",
       "40.0   2023-10-04\n",
       "40.0   2023-10-07\n",
       "41.0   2023-10-11\n",
       "41.0   2023-10-14\n",
       "42.0   2023-10-18\n",
       "Name: Date, Length: 2957, dtype: datetime64[ns]"
      ]
     },
     "execution_count": 72,
     "metadata": {},
     "output_type": "execute_result"
    }
   ],
   "source": [
    "df['Date'] = pd.to_datetime(df['MM/DD'] + df['Year'].apply(lambda x: str(x)), format='%d/%m/%Y')\n",
    "df['Date']"
   ]
  },
  {
   "cell_type": "code",
   "execution_count": 73,
   "metadata": {},
   "outputs": [],
   "source": [
    "df['gwzx_sum'] = df[gwz_zz_sz_columns[:6]].sum(axis=1)"
   ]
  },
  {
   "cell_type": "markdown",
   "metadata": {},
   "source": [
    "#### 3.8 Reset index"
   ]
  },
  {
   "cell_type": "code",
   "execution_count": 74,
   "metadata": {},
   "outputs": [
    {
     "data": {
      "text/html": [
       "<div>\n",
       "<style scoped>\n",
       "    .dataframe tbody tr th:only-of-type {\n",
       "        vertical-align: middle;\n",
       "    }\n",
       "\n",
       "    .dataframe tbody tr th {\n",
       "        vertical-align: top;\n",
       "    }\n",
       "\n",
       "    .dataframe thead th {\n",
       "        text-align: right;\n",
       "    }\n",
       "</style>\n",
       "<table border=\"1\" class=\"dataframe\">\n",
       "  <thead>\n",
       "    <tr style=\"text-align: right;\">\n",
       "      <th></th>\n",
       "      <th>Year</th>\n",
       "      <th>MM/DD</th>\n",
       "      <th>Day</th>\n",
       "      <th>GWZ1</th>\n",
       "      <th>GWZ2</th>\n",
       "      <th>GWZ3</th>\n",
       "      <th>GWZ4</th>\n",
       "      <th>GWZ5</th>\n",
       "      <th>GWZ6</th>\n",
       "      <th>Zz</th>\n",
       "      <th>...</th>\n",
       "      <th>4T</th>\n",
       "      <th>VII</th>\n",
       "      <th>3T_Zz</th>\n",
       "      <th>VIII</th>\n",
       "      <th>3T</th>\n",
       "      <th>IX</th>\n",
       "      <th>2T_Zz</th>\n",
       "      <th>Total_payout</th>\n",
       "      <th>Date</th>\n",
       "      <th>gwzx_sum</th>\n",
       "    </tr>\n",
       "  </thead>\n",
       "  <tbody>\n",
       "    <tr>\n",
       "      <th>2952</th>\n",
       "      <td>2023</td>\n",
       "      <td>04/10/</td>\n",
       "      <td>MI</td>\n",
       "      <td>28</td>\n",
       "      <td>38</td>\n",
       "      <td>18</td>\n",
       "      <td>19</td>\n",
       "      <td>46</td>\n",
       "      <td>43</td>\n",
       "      <td>0</td>\n",
       "      <td>...</td>\n",
       "      <td>63.299999</td>\n",
       "      <td>28652</td>\n",
       "      <td>25.100000</td>\n",
       "      <td>270592</td>\n",
       "      <td>12.5</td>\n",
       "      <td>229223</td>\n",
       "      <td>6.0</td>\n",
       "      <td>1.134449e+07</td>\n",
       "      <td>2023-10-04</td>\n",
       "      <td>192</td>\n",
       "    </tr>\n",
       "    <tr>\n",
       "      <th>2953</th>\n",
       "      <td>2023</td>\n",
       "      <td>07/10/</td>\n",
       "      <td>SA</td>\n",
       "      <td>23</td>\n",
       "      <td>32</td>\n",
       "      <td>11</td>\n",
       "      <td>22</td>\n",
       "      <td>42</td>\n",
       "      <td>14</td>\n",
       "      <td>0</td>\n",
       "      <td>...</td>\n",
       "      <td>52.700001</td>\n",
       "      <td>49283</td>\n",
       "      <td>29.299999</td>\n",
       "      <td>593407</td>\n",
       "      <td>11.5</td>\n",
       "      <td>370095</td>\n",
       "      <td>6.0</td>\n",
       "      <td>2.511946e+07</td>\n",
       "      <td>2023-10-07</td>\n",
       "      <td>144</td>\n",
       "    </tr>\n",
       "    <tr>\n",
       "      <th>2954</th>\n",
       "      <td>2023</td>\n",
       "      <td>11/10/</td>\n",
       "      <td>MI</td>\n",
       "      <td>42</td>\n",
       "      <td>30</td>\n",
       "      <td>3</td>\n",
       "      <td>25</td>\n",
       "      <td>16</td>\n",
       "      <td>31</td>\n",
       "      <td>0</td>\n",
       "      <td>...</td>\n",
       "      <td>48.599998</td>\n",
       "      <td>39033</td>\n",
       "      <td>18.299999</td>\n",
       "      <td>321396</td>\n",
       "      <td>10.5</td>\n",
       "      <td>293246</td>\n",
       "      <td>6.0</td>\n",
       "      <td>2.052950e+07</td>\n",
       "      <td>2023-10-11</td>\n",
       "      <td>147</td>\n",
       "    </tr>\n",
       "    <tr>\n",
       "      <th>2955</th>\n",
       "      <td>2023</td>\n",
       "      <td>14/10/</td>\n",
       "      <td>SA</td>\n",
       "      <td>35</td>\n",
       "      <td>31</td>\n",
       "      <td>10</td>\n",
       "      <td>22</td>\n",
       "      <td>8</td>\n",
       "      <td>29</td>\n",
       "      <td>0</td>\n",
       "      <td>...</td>\n",
       "      <td>60.400002</td>\n",
       "      <td>77007</td>\n",
       "      <td>17.700001</td>\n",
       "      <td>530896</td>\n",
       "      <td>12.1</td>\n",
       "      <td>597696</td>\n",
       "      <td>6.0</td>\n",
       "      <td>2.264349e+07</td>\n",
       "      <td>2023-10-14</td>\n",
       "      <td>135</td>\n",
       "    </tr>\n",
       "    <tr>\n",
       "      <th>2956</th>\n",
       "      <td>2023</td>\n",
       "      <td>18/10/</td>\n",
       "      <td>MI</td>\n",
       "      <td>31</td>\n",
       "      <td>16</td>\n",
       "      <td>15</td>\n",
       "      <td>47</td>\n",
       "      <td>42</td>\n",
       "      <td>45</td>\n",
       "      <td>0</td>\n",
       "      <td>...</td>\n",
       "      <td>63.000000</td>\n",
       "      <td>26290</td>\n",
       "      <td>28.000000</td>\n",
       "      <td>260428</td>\n",
       "      <td>13.3</td>\n",
       "      <td>203916</td>\n",
       "      <td>6.0</td>\n",
       "      <td>1.713369e+07</td>\n",
       "      <td>2023-10-18</td>\n",
       "      <td>196</td>\n",
       "    </tr>\n",
       "  </tbody>\n",
       "</table>\n",
       "<p>5 rows × 33 columns</p>\n",
       "</div>"
      ],
      "text/plain": [
       "      Year   MM/DD Day  GWZ1  GWZ2  GWZ3  GWZ4  GWZ5  GWZ6  Zz  ...  \\\n",
       "2952  2023  04/10/  MI    28    38    18    19    46    43   0  ...   \n",
       "2953  2023  07/10/  SA    23    32    11    22    42    14   0  ...   \n",
       "2954  2023  11/10/  MI    42    30     3    25    16    31   0  ...   \n",
       "2955  2023  14/10/  SA    35    31    10    22     8    29   0  ...   \n",
       "2956  2023  18/10/  MI    31    16    15    47    42    45   0  ...   \n",
       "\n",
       "             4T    VII      3T_Zz    VIII    3T      IX  2T_Zz  Total_payout  \\\n",
       "2952  63.299999  28652  25.100000  270592  12.5  229223    6.0  1.134449e+07   \n",
       "2953  52.700001  49283  29.299999  593407  11.5  370095    6.0  2.511946e+07   \n",
       "2954  48.599998  39033  18.299999  321396  10.5  293246    6.0  2.052950e+07   \n",
       "2955  60.400002  77007  17.700001  530896  12.1  597696    6.0  2.264349e+07   \n",
       "2956  63.000000  26290  28.000000  260428  13.3  203916    6.0  1.713369e+07   \n",
       "\n",
       "           Date  gwzx_sum  \n",
       "2952 2023-10-04       192  \n",
       "2953 2023-10-07       144  \n",
       "2954 2023-10-11       147  \n",
       "2955 2023-10-14       135  \n",
       "2956 2023-10-18       196  \n",
       "\n",
       "[5 rows x 33 columns]"
      ]
     },
     "execution_count": 74,
     "metadata": {},
     "output_type": "execute_result"
    }
   ],
   "source": [
    "df.index = df.index.astype(np.int16)\n",
    "df.reset_index(drop=True, inplace=True)\n",
    "df.tail(5)"
   ]
  },
  {
   "cell_type": "markdown",
   "metadata": {},
   "source": [
    "### 4. Store preprocessed CSV"
   ]
  },
  {
   "cell_type": "code",
   "execution_count": 75,
   "metadata": {},
   "outputs": [],
   "source": [
    "final_lotto_csv_path = Path.joinpath(Path.cwd().parent, 'data\\\\preprocessed\\LOTTO6aus49_1990-2023.csv').resolve()\n",
    "\n",
    "df.to_csv(final_lotto_csv_path)"
   ]
  },
  {
   "cell_type": "code",
   "execution_count": null,
   "metadata": {},
   "outputs": [],
   "source": []
  }
 ],
 "metadata": {
  "kernelspec": {
   "display_name": "gambling",
   "language": "python",
   "name": "python3"
  },
  "language_info": {
   "codemirror_mode": {
    "name": "ipython",
    "version": 3
   },
   "file_extension": ".py",
   "mimetype": "text/x-python",
   "name": "python",
   "nbconvert_exporter": "python",
   "pygments_lexer": "ipython3",
   "version": "3.10.14"
  },
  "orig_nbformat": 4
 },
 "nbformat": 4,
 "nbformat_minor": 2
}
